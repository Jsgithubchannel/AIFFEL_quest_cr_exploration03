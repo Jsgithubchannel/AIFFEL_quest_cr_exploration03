{
  "nbformat": 4,
  "nbformat_minor": 0,
  "metadata": {
    "colab": {
      "provenance": [],
      "include_colab_link": true
    },
    "kernelspec": {
      "name": "python3",
      "display_name": "Python 3"
    },
    "language_info": {
      "name": "python"
    }
  },
  "cells": [
    {
      "cell_type": "markdown",
      "metadata": {
        "id": "view-in-github",
        "colab_type": "text"
      },
      "source": [
        "<a href=\"https://colab.research.google.com/github/jungfsg/AIFFEL_quest_cr/blob/main/Python/Quest01/250108_Aiffel.ipynb\" target=\"_parent\"><img src=\"https://colab.research.google.com/assets/colab-badge.svg\" alt=\"Open In Colab\"/></a>"
      ]
    },
    {
      "cell_type": "code",
      "execution_count": null,
      "metadata": {
        "colab": {
          "base_uri": "https://localhost:8080/"
        },
        "id": "nKdhzUCwXK8L",
        "outputId": "07f11271-9464-4fa4-9545-0e984eed749a"
      },
      "outputs": [
        {
          "output_type": "stream",
          "name": "stdout",
          "text": [
            "입력값 : 다시마를마시다\n",
            "회문입니다\n"
          ]
        }
      ],
      "source": [
        "# 솔루션1\n",
        "\n",
        "word = input(\"입력값 : \")\n",
        "\n",
        "def isPalindrome(word):\n",
        "  wordList = list(word)         # 입력값 word를 list값으로 반환함\n",
        "  if len(wordList) < 2:         # 두 글자 미만일 경우\n",
        "    print(\"두 글자 이상 입력해주세요.\")\n",
        "    return False\n",
        "\n",
        "  else: # 두 글자 이상일 경우\n",
        "    for i in range(len(wordList) //2):    # 입력값에서 pop()으로 뒷 글자 하나씩 제외하기 때문에 전체 값에서 절반의 길이에 해당하는 만큼만 반복함\n",
        "      if wordList[i] != wordList.pop():   # for 문에서 인덱스의 글자(i)를 pop()으로 리스트에서 뽑아낸 각각의 마지막 글자와 비교함\n",
        "        print(\"회문이 아닙니다\")          # 리스트의 i번째 문자와 마지막 문자가 다르면 회문이 아님\n",
        "        return False\n",
        "  return True\n",
        "\n",
        "if isPalindrome(word):\n",
        "  print(\"회문입니다\")\n"
      ]
    },
    {
      "cell_type": "markdown",
      "source": [
        "\n",
        "### 회고 온라인12기/정원규/코어\n",
        "\n",
        "def 으로 함수를 구성하고 사용하는 방법에 대해 배웠음\n",
        "문제에 대한 다양한 접근방식과 내장함수의 기능들에 대해 배웠음\n",
        "일단 실행해보면서 문제점을 하나씩 찾아가는 것이 문제 해결에 도움이 많이 되었습니다.\n",
        "\n",
        "### 회고 온라인12기/홍지수/코어\n",
        "\n",
        "회문이라는 문제에 대해 다양한 방법으로 접근해서 풀어보았다. 기존에 알고 있던 방식과 더불어 고민하며 새로운 방식을 만들어보았고, 헷갈렸던 개념들을 실습을 통해 더 잘 이해하게 되었다.\n",
        "\n",
        "단순히 [::-1]이나 reversed 같은 함수를 이용해 파이썬으로 해결하는 방법은 이미 알고 있었지만, 이번에는 반복문을 사용하여 pop을 활용하는 방법으로 문제를 해결하면서 개념을 더 명확히 정리할 수 있었다.\n",
        "  "
      ],
      "metadata": {
        "id": "9kHY40a_5sy9"
      }
    },
    {
      "cell_type": "code",
      "source": [
        "# 새로운 시도 1\n",
        "\n",
        "word = input(\"입력값 : \")\n",
        "\n",
        "def rev(word):\n",
        "  rev = word[::-1]\n",
        "  print(\"뒤집힌 단어는 :\", rev)\n",
        "  if word == rev:\n",
        "    print(\"입력된 단어는 회문입니다\")\n",
        "  else:\n",
        "    print(\"회문이 아닙니다\")\n",
        "\n",
        "rev(word)"
      ],
      "metadata": {
        "colab": {
          "base_uri": "https://localhost:8080/"
        },
        "id": "qfloE5zfiZLf",
        "outputId": "634ce1ac-c6b1-4147-d6e2-fdcae02c3f2d"
      },
      "execution_count": null,
      "outputs": [
        {
          "output_type": "stream",
          "name": "stdout",
          "text": [
            "입력값 : zxccxz\n",
            "뒤집힌 단어는 : zxccxz\n",
            "입력된 단어는 회문입니다\n"
          ]
        }
      ]
    },
    {
      "cell_type": "code",
      "source": [
        "# 새로운 시도 2\n",
        "\n",
        "word = list(input(\"입력값 : \"))\n",
        "rev_word = list(reversed(word))\n",
        "\n",
        "if(word == rev_word):\n",
        "  print(\"회문입니다\")\n",
        "else:\n",
        "  print(\"회문이 아닙니다\")"
      ],
      "metadata": {
        "id": "U9Cwfw5DzD_i",
        "colab": {
          "base_uri": "https://localhost:8080/"
        },
        "outputId": "330cf340-f301-4bdc-82c5-685b95cb368a"
      },
      "execution_count": null,
      "outputs": [
        {
          "output_type": "stream",
          "name": "stdout",
          "text": [
            "입력값 : 다리그리고저고리그리다\n",
            "회문입니다\n"
          ]
        }
      ]
    }
  ]
}