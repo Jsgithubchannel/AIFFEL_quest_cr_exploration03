{
  "nbformat": 4,
  "nbformat_minor": 0,
  "metadata": {
    "colab": {
      "provenance": [],
      "include_colab_link": true
    },
    "kernelspec": {
      "name": "python3",
      "display_name": "Python 3"
    },
    "language_info": {
      "name": "python"
    }
  },
  "cells": [
    {
      "cell_type": "markdown",
      "metadata": {
        "id": "view-in-github",
        "colab_type": "text"
      },
      "source": [
        "<a href=\"https://colab.research.google.com/github/jungfsg/AIFFEL_quest_cr/blob/main/Python/Quest01/250108_Aiffel.ipynb\" target=\"_parent\"><img src=\"https://colab.research.google.com/assets/colab-badge.svg\" alt=\"Open In Colab\"/></a>"
      ]
    },
    {
      "cell_type": "code",
      "execution_count": null,
      "metadata": {
        "colab": {
          "base_uri": "https://localhost:8080/"
        },
        "id": "nKdhzUCwXK8L",
        "outputId": "4704eadd-ed00-4089-eaba-d14042e3e96a"
      },
      "outputs": [
        {
          "output_type": "stream",
          "name": "stdout",
          "text": [
            "입력값 : a\n",
            "두글자 이상 입력해주세요.\n"
          ]
        }
      ],
      "source": [
        "# 솔루션1\n",
        "\n",
        "word = input(\"입력값 : \")\n",
        "\n",
        "def isPalindrome(word):\n",
        "  wordList = list(word)\n",
        "  if len(wordList) < 2: # 두 글자 미만일 경우\n",
        "    print(\"두 글자 이상 입력해주세요.\")\n",
        "    return False\n",
        "\n",
        "  else: # 두 글자 이상일 경우\n",
        "    for i in range(len(wordList) //2):\n",
        "      if wordList[i] != wordList.pop():\n",
        "        print(\"회문이 아닙니다\")\n",
        "        return False\n",
        "  return True\n",
        "\n",
        "if isPalindrome(word):\n",
        "  print(\"회문입니다\")"
      ]
    },
    {
      "cell_type": "code",
      "source": [
        "# 솔루션2\n",
        "\n",
        "word = input(\"입력값 : \")\n",
        "\n",
        "def rev(word):\n",
        "  rev = word[::-1]\n",
        "  print(\"뒤집힌 단어는 :\", rev)\n",
        "  if word == rev:\n",
        "    print(\"입력된 단어는 회문입니다\")\n",
        "  else:\n",
        "    print(\"회문이 아닙니다\")\n",
        "\n",
        "\n",
        "rev(word)"
      ],
      "metadata": {
        "colab": {
          "base_uri": "https://localhost:8080/"
        },
        "id": "qfloE5zfiZLf",
        "outputId": "634ce1ac-c6b1-4147-d6e2-fdcae02c3f2d"
      },
      "execution_count": null,
      "outputs": [
        {
          "output_type": "stream",
          "name": "stdout",
          "text": [
            "입력값 : zxccxz\n",
            "뒤집힌 단어는 : zxccxz\n",
            "입력된 단어는 회문입니다\n"
          ]
        }
      ]
    },
    {
      "cell_type": "code",
      "source": [
        "# 솔루션3\n",
        "\n",
        "word = list(input(\"입력값 : \"))\n",
        "rev_word = list(reversed(word))\n",
        "\n",
        "if(word == rev_word):\n",
        "  print(\"회문입니다\")\n",
        "else:\n",
        "  print(\"회문이 아닙니다\")"
      ],
      "metadata": {
        "id": "U9Cwfw5DzD_i",
        "colab": {
          "base_uri": "https://localhost:8080/"
        },
        "outputId": "330cf340-f301-4bdc-82c5-685b95cb368a"
      },
      "execution_count": null,
      "outputs": [
        {
          "output_type": "stream",
          "name": "stdout",
          "text": [
            "입력값 : 다리그리고저고리그리다\n",
            "회문입니다\n"
          ]
        }
      ]
    }
  ]
}