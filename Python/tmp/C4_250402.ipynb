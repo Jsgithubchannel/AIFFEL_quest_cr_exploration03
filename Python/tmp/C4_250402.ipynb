{
  "cells": [
    {
      "cell_type": "code",
      "execution_count": null,
      "metadata": {
        "colab": {
          "base_uri": "https://localhost:8080/"
        },
        "id": "lAarg8IvB6it",
        "outputId": "4d52095e-bbb6-441b-a338-98e7b5067027"
      },
      "outputs": [],
      "source": [
        "# Mount Google Drive\n",
        "from google.colab import drive\n",
        "drive.mount('/content/drive')"
      ]
    },
    {
      "cell_type": "code",
      "execution_count": null,
      "metadata": {
        "id": "Zc43shmaCn62"
      },
      "outputs": [],
      "source": [
        "import pandas as pd\n",
        "import os"
      ]
    },
    {
      "cell_type": "code",
      "execution_count": null,
      "metadata": {
        "colab": {
          "base_uri": "https://localhost:8080/"
        },
        "id": "hAwCcr1HEbvD",
        "outputId": "982012c6-e68c-466e-ca12-32b48749e2da"
      },
      "outputs": [],
      "source": [
        "import kagglehub\n",
        "path = kagglehub.dataset_download('anshtanwar/jellyfish-types')\n",
        "print(\"데이터셋 파일 경로:\", path)"
      ]
    },
    {
      "cell_type": "code",
      "execution_count": null,
      "metadata": {
        "colab": {
          "base_uri": "https://localhost:8080/"
        },
        "id": "AOOdJTXdEkkN",
        "outputId": "ca89f35b-13ab-4484-bff6-e733d3dda4ea"
      },
      "outputs": [],
      "source": [
        "print(\"다운로드된 파일 목록:\")\n",
        "print(os.listdir(path))"
      ]
    },
    {
      "cell_type": "code",
      "execution_count": null,
      "metadata": {
        "colab": {
          "base_uri": "https://localhost:8080/"
        },
        "id": "4smzoKMjGEoO",
        "outputId": "4104154a-5210-43f6-bd19-35c1f9a8989f"
      },
      "outputs": [],
      "source": [
        "# 폴더 구조 확인\n",
        "train_test_valid_path = os.path.join(path, 'Train_Test_Valid')\n",
        "if os.path.exists(train_test_valid_path):\n",
        "    print(\"\\nTrain_Test_Valid 폴더 내용:\")\n",
        "    print(os.listdir(train_test_valid_path))\n",
        "\n",
        "    # 훈련 데이터 경로\n",
        "    train_path = os.path.join(train_test_valid_path, 'Train')\n",
        "    if os.path.exists(train_path):\n",
        "        train_files = pd.DataFrame(os.listdir(train_path), columns=['Files_Name'])\n",
        "        print(\"\\n훈련 파일:\")\n",
        "        print(train_files.head())\n",
        "    else:\n",
        "        print(f\"\\n'Train' 폴더를 찾을 수 없습니다.\")\n",
        "\n",
        "    # 검증 데이터 경로\n",
        "    valid_path = os.path.join(train_test_valid_path, 'valid')\n",
        "    if os.path.exists(valid_path):\n",
        "        valid_files = pd.DataFrame(os.listdir(valid_path), columns=['Files_Name'])\n",
        "        print(\"\\n검증 파일:\")\n",
        "        print(valid_files.head())\n",
        "    else:\n",
        "        print(f\"\\n'valid' 폴더를 찾을 수 없습니다.\")\n",
        "else:\n",
        "    print(f\"\\n'Train_Test_Valid' 폴더를 찾을 수 없습니다.\")"
      ]
    },
    {
      "cell_type": "code",
      "execution_count": null,
      "metadata": {
        "id": "GgXxOff9B6iv"
      },
      "outputs": [],
      "source": [
        "import glob\n",
        "import numpy as np\n",
        "\n",
        "def create_dataframe(image_folder):\n",
        "    files = glob.glob(os.path.join(image_folder, '**', '*.*'), recursive=True)\n",
        "    np.random.shuffle(files)\n",
        "    labels = [os.path.basename(os.path.dirname(f)) for f in files]\n",
        "    return pd.DataFrame({'Image': files, 'Label': labels})\n",
        "\n",
        "dataframe_train = create_dataframe(train_path)\n",
        "dataframe_valid = create_dataframe(valid_path)"
      ]
    },
    {
      "cell_type": "code",
      "execution_count": null,
      "metadata": {
        "colab": {
          "base_uri": "https://localhost:8080/",
          "height": 629
        },
        "id": "2HvyO6DRB6iv",
        "outputId": "22aea9df-98ca-4305-dc65-edb954e28883"
      },
      "outputs": [],
      "source": [
        "import matplotlib.pyplot as plt\n",
        "import seaborn as sns\n",
        "\n",
        "dataframe_train['Dataset'] = 'Training'\n",
        "dataframe_valid['Dataset'] = 'Validation'\n",
        "\n",
        "combined_df = pd.concat([dataframe_train, dataframe_valid], ignore_index=True)\n",
        "\n",
        "sns.set_theme(style=\"whitegrid\")\n",
        "\n",
        "count_data = combined_df.groupby(['Label', 'Dataset']).size().unstack(fill_value=0)\n",
        "percentage_data = count_data.div(count_data.sum(axis=0), axis=1) * 100\n",
        "\n",
        "print(percentage_data)\n",
        "\n",
        "palette = sns.color_palette(\"pastel\", len(count_data))\n",
        "\n",
        "plt.figure(figsize=(12, 6))\n",
        "ax = sns.countplot(data=combined_df, x=\"Label\", hue=\"Dataset\", order=count_data.sum(axis=1).sort_values(ascending=False).index, palette=\"pastel\")\n",
        "\n",
        "for p in ax.patches:\n",
        "    height = p.get_height()\n",
        "    percentage = f'{(height / len(combined_df)) * 100:.2f}%'\n",
        "    ax.annotate(percentage,\n",
        "                (p.get_x() + p.get_width() / 2., height),\n",
        "                ha='center', va='bottom', fontsize=10, color='black', xytext=(0, 8), textcoords='offset points')\n",
        "\n",
        "plt.xticks(rotation=45, ha='right', fontsize=12)\n",
        "\n",
        "plt.title(\"Label Distribution in Training and Validation Datasets\", fontsize=16, pad=20)\n",
        "plt.xlabel(\"Labels\", fontsize=14, labelpad=10)\n",
        "plt.ylabel(\"Count\", fontsize=14, labelpad=10)\n",
        "\n",
        "sns.despine()\n",
        "\n",
        "plt.tight_layout()\n",
        "plt.show()"
      ]
    },
    {
      "cell_type": "code",
      "execution_count": null,
      "metadata": {
        "colab": {
          "base_uri": "https://localhost:8080/"
        },
        "id": "Es86IcBEB6iw",
        "outputId": "89cf3aca-7d13-42d0-d560-44d6e5ff4d2e"
      },
      "outputs": [],
      "source": [
        "import tensorflow as tf\n",
        "\n",
        "batch_size = 16\n",
        "target_size = (224,224)\n",
        "train= tf.keras.preprocessing.image_dataset_from_directory(\n",
        "    train_path,\n",
        "    validation_split=None,\n",
        "    image_size=target_size,\n",
        "    batch_size=batch_size,\n",
        ")\n",
        "validation= tf.keras.preprocessing.image_dataset_from_directory(\n",
        "    valid_path,\n",
        "    validation_split=None,\n",
        "    image_size=target_size,\n",
        "    batch_size=batch_size,\n",
        ")"
      ]
    },
    {
      "cell_type": "code",
      "execution_count": null,
      "metadata": {
        "colab": {
          "base_uri": "https://localhost:8080/",
          "height": 189
        },
        "id": "zlIYdu4uB6iw",
        "outputId": "9bf52735-7931-4d34-b602-ac9ca249e4d9"
      },
      "outputs": [],
      "source": [
        "class_labels = train.class_names\n",
        "\n",
        "plt.figure(figsize=(15, 10))\n",
        "\n",
        "shown_classes = set()\n",
        "\n",
        "for images, labels in train.take(1):\n",
        "    for i in range(len(images)):\n",
        "        class_name = class_labels[labels[i]]\n",
        "        if class_name not in shown_classes:\n",
        "            ax = plt.subplot(1, 6, len(shown_classes) + 1)\n",
        "            plt.imshow(images[i].numpy().astype(\"uint8\"))\n",
        "            plt.title(class_name)\n",
        "            plt.axis(\"off\")\n",
        "            shown_classes.add(class_name)\n",
        "\n",
        "        if len(shown_classes) == len(class_labels):\n",
        "            break\n",
        "\n",
        "plt.tight_layout()\n",
        "plt.show()"
      ]
    },
    {
      "cell_type": "code",
      "execution_count": null,
      "metadata": {
        "colab": {
          "base_uri": "https://localhost:8080/",
          "height": 291
        },
        "id": "EWIX80OLB6iw",
        "outputId": "6885fda8-7a4a-461c-cda7-3c627c5c341a"
      },
      "outputs": [],
      "source": [
        "import wandb\n",
        "from wandb.integration.keras import WandbCallback\n",
        "from datetime import datetime\n",
        "\n",
        "run_name = f\"vgg16-{datetime.now().strftime('%Y%m%d-%H%M%S')}\"\n",
        "wandb.init(\n",
        "    project=\"jellyfish-classification\",\n",
        "    name=run_name,\n",
        "    )\n",
        "\n",
        "config = wandb.config\n",
        "config.learning_rate = 0.001\n",
        "config.batch_size = 16\n",
        "config.epochs = 10\n",
        "config.optimizer = \"adam\"\n",
        "config.model = \"VGG16\"\n"
      ]
    },
    {
      "cell_type": "code",
      "execution_count": null,
      "metadata": {
        "colab": {
          "base_uri": "https://localhost:8080/"
        },
        "id": "WOgf7tsqB6iw",
        "outputId": "6a356593-fed2-48cf-cd6b-1bb2b44a1c2f"
      },
      "outputs": [],
      "source": [
        "# 모델 정의\n",
        "\n",
        "base_model = tf.keras.applications.VGG16(\n",
        "    include_top=False,  # 완전 연결 레이어 제외\n",
        "    weights='imagenet',\n",
        "    input_shape=(224, 224, 3)  # 입력 이미지 크기\n",
        ")\n",
        "\n",
        "base_model.trainable = False\n",
        "\n",
        "# 새로운 분류 헤드 추가\n",
        "model = tf.keras.Sequential([\n",
        "    base_model,\n",
        "    tf.keras.layers.GlobalAveragePooling2D(),\n",
        "    tf.keras.layers.Dense(256, activation='relu'),\n",
        "    tf.keras.layers.Dropout(0.5),\n",
        "    tf.keras.layers.Dense(len(train.class_names), activation='softmax')  # 해파리 클래스 수에 맞게\n",
        "])"
      ]
    },
    {
      "cell_type": "code",
      "execution_count": null,
      "metadata": {
        "id": "uh-XSujQB6ix"
      },
      "outputs": [],
      "source": [
        "# 컴파일\n",
        "\n",
        "model.compile(\n",
        "    optimizer=tf.keras.optimizers.Adam(learning_rate=config.learning_rate),\n",
        "    loss='sparse_categorical_crossentropy',\n",
        "    metrics=['accuracy']\n",
        ")"
      ]
    },
    {
      "cell_type": "code",
      "execution_count": null,
      "metadata": {
        "id": "73dSFeCDB6ix"
      },
      "outputs": [],
      "source": [
        "# wandb 콜백 커스텀(VGG16 기반에서 기본 콜백함수는 오류가 자주 생긴다고 함)\n",
        "\n",
        "class MyWandbCallback(tf.keras.callbacks.Callback):\n",
        "    def on_epoch_end(self, epoch, logs=None):\n",
        "        if logs is not None:\n",
        "            wandb.log(logs, step=epoch)\n"
      ]
    },
    {
      "cell_type": "code",
      "execution_count": null,
      "metadata": {
        "colab": {
          "base_uri": "https://localhost:8080/"
        },
        "id": "hoBAlzUEB6ix",
        "outputId": "eb433879-9eba-46dd-e212-be2cb482fe74"
      },
      "outputs": [],
      "source": [
        "# fit\n",
        "with tf.device('/GPU:0'):\n",
        "    history = model.fit(\n",
        "        train,\n",
        "        validation_data=validation,\n",
        "        epochs=10,\n",
        "        batch_size=16,\n",
        "        callbacks=[MyWandbCallback()]\n",
        "    )\n"
      ]
    },
    {
      "cell_type": "code",
      "execution_count": null,
      "metadata": {
        "id": "7Ed0u7zKB6ix"
      },
      "outputs": [],
      "source": []
    },
    {
      "cell_type": "code",
      "execution_count": null,
      "metadata": {
        "colab": {
          "base_uri": "https://localhost:8080/"
        },
        "id": "lQIWnYQ6B6ix",
        "outputId": "03a740f3-d192-4795-84c4-a85bcff177b8"
      },
      "outputs": [],
      "source": []
    },
    {
      "cell_type": "code",
      "execution_count": null,
      "metadata": {
        "colab": {
          "base_uri": "https://localhost:8080/",
          "height": 1000
        },
        "id": "jfN-OObZB6ix",
        "outputId": "21988b59-a9f2-46cd-a607-74e456aa512b"
      },
      "outputs": [],
      "source": []
    },
    {
      "cell_type": "code",
      "execution_count": null,
      "metadata": {
        "colab": {
          "base_uri": "https://localhost:8080/"
        },
        "id": "dTf6C3vwB6ix",
        "outputId": "777b8520-a4a0-4676-e084-5fa6af1c9c65"
      },
      "outputs": [],
      "source": []
    },
    {
      "cell_type": "code",
      "execution_count": null,
      "metadata": {
        "colab": {
          "base_uri": "https://localhost:8080/",
          "height": 1000
        },
        "id": "KIiDqu2XOGZ3",
        "outputId": "c06da5de-e469-4fae-944d-79dbb8f2f957"
      },
      "outputs": [],
      "source": []
    },
    {
      "cell_type": "code",
      "execution_count": null,
      "metadata": {
        "id": "SJTMU18tB6ix"
      },
      "outputs": [],
      "source": []
    },
    {
      "cell_type": "code",
      "execution_count": null,
      "metadata": {
        "id": "iW9RalgsB6ix"
      },
      "outputs": [],
      "source": []
    },
    {
      "cell_type": "code",
      "execution_count": null,
      "metadata": {
        "id": "n_DPGsjkB6iy"
      },
      "outputs": [],
      "source": []
    },
    {
      "cell_type": "code",
      "execution_count": null,
      "metadata": {
        "id": "jq-IPrKQB6iy"
      },
      "outputs": [],
      "source": []
    }
  ],
  "metadata": {
    "accelerator": "GPU",
    "colab": {
      "gpuType": "T4",
      "provenance": []
    },
    "kernelspec": {
      "display_name": "Python 3",
      "name": "python3"
    },
    "language_info": {
      "codemirror_mode": {
        "name": "ipython",
        "version": 3
      },
      "file_extension": ".py",
      "mimetype": "text/x-python",
      "name": "python",
      "nbconvert_exporter": "python",
      "pygments_lexer": "ipython3",
      "version": "3.11.2"
    }
  },
  "nbformat": 4,
  "nbformat_minor": 0
}
